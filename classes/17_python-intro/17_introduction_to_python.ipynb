{
  "nbformat": 4,
  "nbformat_minor": 0,
  "metadata": {
    "colab": {
      "name": "17_introduction_to_python.ipynb",
      "provenance": [],
      "authorship_tag": "ABX9TyOnKBxmIRUxTQ7oxlh7k+F2",
      "include_colab_link": true
    },
    "kernelspec": {
      "name": "python3",
      "display_name": "Python 3"
    },
    "language_info": {
      "name": "python"
    }
  },
  "cells": [
    {
      "cell_type": "markdown",
      "metadata": {
        "id": "view-in-github",
        "colab_type": "text"
      },
      "source": [
        "<a href=\"https://colab.research.google.com/github/lescai-teaching/class-lt-biology/blob/master/classes/17_python-intro/17_introduction_to_python.ipynb\" target=\"_parent\"><img src=\"https://colab.research.google.com/assets/colab-badge.svg\" alt=\"Open In Colab\"/></a>"
      ]
    },
    {
      "cell_type": "markdown",
      "source": [
        "# Introduzione Python\n",
        "\n",
        "\n",
        "## Variables\n",
        "\n",
        "Like in any other language, variables are *names* for values stored in your computer memory.\n",
        "\n",
        "Variables are case-sensitive, i.e. *thing* is different from *Thing* and they're both different from *THING*.\n",
        "Variable names cannot begin with a digit.\n",
        "\n",
        "\n",
        "## Assignment\n",
        "\n",
        "In Python you use *=* to assign a value to a variable\n"
      ],
      "metadata": {
        "id": "dVmyDFjP0vPI"
      }
    },
    {
      "cell_type": "code",
      "source": [
        "num = 2\n",
        "name = \"Joe\""
      ],
      "metadata": {
        "id": "BROtnUmP02IT"
      },
      "execution_count": null,
      "outputs": []
    },
    {
      "cell_type": "markdown",
      "source": [
        "## Data Types\n",
        "\n",
        "There are several different data types, let's see a few of them\n",
        "\n",
        "### Boolean\n",
        "\n",
        "This is the typical *true* or *false*"
      ],
      "metadata": {
        "id": "SqdhhjC704FR"
      }
    },
    {
      "cell_type": "code",
      "source": [
        "test1 = True\n",
        "test2 = 'true'\n",
        "type(test1)\n",
        "type(test2)"
      ],
      "metadata": {
        "id": "1jwl9u0506fI"
      },
      "execution_count": null,
      "outputs": []
    },
    {
      "cell_type": "markdown",
      "source": [
        "The above shows that the correct boolean value is with a capital letter. When I write with lowercase, it is not a boolean and it is going to be considered a string: for this reason I have to use the quotes.\n",
        "\n",
        "If you type"
      ],
      "metadata": {
        "id": "X0J1K3my0-vZ"
      }
    },
    {
      "cell_type": "code",
      "source": [
        "test1 = true"
      ],
      "metadata": {
        "id": "3i914zi70_al"
      },
      "execution_count": null,
      "outputs": []
    },
    {
      "cell_type": "markdown",
      "source": [
        "it is going to throw an error, because it is looking for a variable name.\n",
        "\n",
        "### Numbers\n",
        "\n",
        "There is **no** *number* data type: the title of this paragraph serves to indicate several data types containing digits, used for arithmetics.\n",
        "\n",
        "- integer (*int*): refers to numbers without decimal digits\n",
        "- floating point (*float*): refers to numbers with decimal digits or scientific exponentials\n",
        "- complex: refers to complex numbers"
      ],
      "metadata": {
        "id": "1Vo9ERmI1BrV"
      }
    },
    {
      "cell_type": "code",
      "source": [
        "a = 2\n",
        "b = 5"
      ],
      "metadata": {
        "id": "3o48BKXA1ELz"
      },
      "execution_count": null,
      "outputs": []
    },
    {
      "cell_type": "markdown",
      "source": [
        "\n",
        "### String\n",
        "\n",
        "Strings are sequences of characters, and they are created by using quotes.\n"
      ],
      "metadata": {
        "id": "tEqcjUTJ1FsZ"
      }
    },
    {
      "cell_type": "code",
      "source": [
        "data = 'this is a sentence'\n",
        "data2 = \"this is a sentence\"\n",
        "print(data)\n",
        "print(data2)"
      ],
      "metadata": {
        "id": "Jh4aOOkG1Hti"
      },
      "execution_count": null,
      "outputs": []
    },
    {
      "cell_type": "markdown",
      "source": [
        "\n",
        "There are single quotes ' and double quotes \". As you can see they are roughly equivalente, but they can be used together in order to create strings containing quotes."
      ],
      "metadata": {
        "id": "MDRik-TM1Jg4"
      }
    },
    {
      "cell_type": "code",
      "source": [
        "sentence = \"'awesome work' said mr. Ripley\"\n",
        "print(sentence)"
      ],
      "metadata": {
        "id": "iyb1Qtw31Lf0"
      },
      "execution_count": null,
      "outputs": []
    },
    {
      "cell_type": "markdown",
      "source": [
        "\n",
        "Quotes enclosed in other quotes are not considered special characters anymore.\n",
        "\n",
        "A string class has several properties, which is best to learn when needed. Just a few examples:"
      ],
      "metadata": {
        "id": "x1QzNH2C1M6Z"
      }
    },
    {
      "cell_type": "code",
      "source": [
        "sentence = \"this is just an example\"\n",
        "sentence.capitalize()"
      ],
      "metadata": {
        "id": "XRkm_-iO1Or_"
      },
      "execution_count": null,
      "outputs": []
    },
    {
      "cell_type": "markdown",
      "source": [
        "This has capitalised only the first word. You can use the following to capitalise every word:"
      ],
      "metadata": {
        "id": "pEsfhGWq1RXT"
      }
    },
    {
      "cell_type": "code",
      "source": [
        "sentence.title()"
      ],
      "metadata": {
        "id": "-FZiUHCW1QaA"
      },
      "execution_count": null,
      "outputs": []
    },
    {
      "cell_type": "markdown",
      "source": [
        "or every letter:"
      ],
      "metadata": {
        "id": "yUm9d_qR1UZ1"
      }
    },
    {
      "cell_type": "code",
      "source": [
        "sentence.upper()"
      ],
      "metadata": {
        "id": "q6u4QAvz1VrG"
      },
      "execution_count": null,
      "outputs": []
    },
    {
      "cell_type": "markdown",
      "source": [
        "\n",
        "\n",
        "### List\n",
        "\n",
        "The concept of a list should be relatively simple. It is a sequence of elements, like in many other languages.\n",
        "They are assigned by using square brackets [ ... ], and the elements are separated by a coma.\n",
        "\n",
        "They can be lists of any types.\n"
      ],
      "metadata": {
        "id": "K1MJ-sqc1W-L"
      }
    },
    {
      "cell_type": "code",
      "source": [
        "songs = [ 'songA', 'songB', 'songC' ]\n",
        "numbers = [ 1, 2, 3, 4, 5]\n",
        "print(songs)\n",
        "print(numbers)"
      ],
      "metadata": {
        "id": "zUCnfr4z1ajG"
      },
      "execution_count": null,
      "outputs": []
    },
    {
      "cell_type": "markdown",
      "source": [
        "\n",
        "### Tuple\n",
        "\n",
        "While *lists* can be modified, in Python there's a special type of collection of elements which *cannot* be modified: this is very useful when you need to create data safe to be used, with a guarantee their structure, properties and content will not change.\n",
        "\n",
        "Tuples are assigned using round brackets ( ... ), and like lists the elements are separated by comas."
      ],
      "metadata": {
        "id": "aZ926iRQ1cOk"
      }
    },
    {
      "cell_type": "code",
      "source": [
        "collection = ( 'cA', 'cB', 'cC' )\n",
        "num_collect = ( 1, 2, 3, 4 )\n",
        "print(collection)\n",
        "print(num_collect)"
      ],
      "metadata": {
        "id": "ZQJZteq_1eCy"
      },
      "execution_count": null,
      "outputs": []
    },
    {
      "cell_type": "markdown",
      "source": [
        "\n",
        "\n",
        "### Dictionaries\n",
        "\n",
        "Dictionaries are a special kind of list, where an element is identified by a key. We call this **key-value** pair.\n",
        "In this way, I can call a key of a dictionary and get its value. \n",
        "Another important difference with a list is that dictionaries are not ordered.\n",
        "\n",
        "They are built using curly brackets as below, and the key-value indicated by colon, while elements separated by coma:\n"
      ],
      "metadata": {
        "id": "sk1MxVh41iA8"
      }
    },
    {
      "cell_type": "code",
      "source": [
        "dictionary = {\n",
        "\t'day': 'a period of light',\n",
        "\t'night': 'a period in absence of light'\n",
        "}"
      ],
      "metadata": {
        "id": "6bGJ0kob1kxz"
      },
      "execution_count": null,
      "outputs": []
    },
    {
      "cell_type": "markdown",
      "source": [
        "\n",
        "You can then call a value of a dictionary by its key, with the format below:"
      ],
      "metadata": {
        "id": "7gFjDKTk1m3d"
      }
    },
    {
      "cell_type": "code",
      "source": [
        "print(dictionary['day'])"
      ],
      "metadata": {
        "id": "Q_9QkK9A1na_"
      },
      "execution_count": null,
      "outputs": []
    },
    {
      "cell_type": "markdown",
      "source": [
        "or using the method *get*"
      ],
      "metadata": {
        "id": "VyAeVOQS1pJv"
      }
    },
    {
      "cell_type": "code",
      "source": [
        "dictionary.get('day')"
      ],
      "metadata": {
        "id": "mXNhInru1qbQ"
      },
      "execution_count": null,
      "outputs": []
    },
    {
      "cell_type": "markdown",
      "source": [
        "You can also list all the keys with:"
      ],
      "metadata": {
        "id": "fJcIreiU1rnD"
      }
    },
    {
      "cell_type": "code",
      "source": [
        "```\n",
        "dictionary.keys()"
      ],
      "metadata": {
        "id": "2V8hdaWu1tM1"
      },
      "execution_count": null,
      "outputs": []
    },
    {
      "cell_type": "markdown",
      "source": [
        "or all the values:"
      ],
      "metadata": {
        "id": "4H9Zobo31vFK"
      }
    },
    {
      "cell_type": "code",
      "source": [
        "dictionary.values()"
      ],
      "metadata": {
        "id": "uhzneDYT1wos"
      },
      "execution_count": null,
      "outputs": []
    },
    {
      "cell_type": "markdown",
      "source": [
        "\n",
        "\n",
        "## Adding & concatenating\n",
        "\n",
        "Objects of the same type can be combined just using a *+* sign."
      ],
      "metadata": {
        "id": "6ufvM3p_1zrI"
      }
    },
    {
      "cell_type": "code",
      "source": [
        "sentenceA = \"this is only \"\n",
        "sentenceB = \"an example\"\n",
        "sentence_complete = sentenceA + sentenceB\n",
        "print(sentence_complete)"
      ],
      "metadata": {
        "id": "XX-dNgGe10Q9"
      },
      "execution_count": null,
      "outputs": []
    },
    {
      "cell_type": "markdown",
      "source": [
        "Same goes with numbers"
      ],
      "metadata": {
        "id": "g3e5whtT12Ht"
      }
    },
    {
      "cell_type": "code",
      "source": [
        "a = 5\n",
        "b = 2\n",
        "c = a + b\n",
        "print(c)"
      ],
      "metadata": {
        "id": "K1-0GnxT13ru"
      },
      "execution_count": null,
      "outputs": []
    },
    {
      "cell_type": "markdown",
      "source": [
        "or lists:"
      ],
      "metadata": {
        "id": "3ld_ybEy15TF"
      }
    },
    {
      "cell_type": "code",
      "source": [
        "list_1 = ['A', 'B']\n",
        "list_2 = ['c', 'd', 'e']\n",
        "list_all = list_1 + list_2\n",
        "print(list_all)"
      ],
      "metadata": {
        "id": "rJ32Fisc16k4"
      },
      "execution_count": null,
      "outputs": []
    },
    {
      "cell_type": "markdown",
      "source": [
        "But you cannot combine different types:"
      ],
      "metadata": {
        "id": "k2s3OJVl18Pp"
      }
    },
    {
      "cell_type": "code",
      "source": [
        "test = sentenceA + a"
      ],
      "metadata": {
        "id": "1_9djMLP1-Fl"
      },
      "execution_count": null,
      "outputs": []
    },
    {
      "cell_type": "markdown",
      "source": [
        "Unless you convert the number to a string:"
      ],
      "metadata": {
        "id": "KRiJG-481_uB"
      }
    },
    {
      "cell_type": "code",
      "source": [
        "test = sentenceA + str(a)\n",
        "print(test)"
      ],
      "metadata": {
        "id": "sT3UbHhD2BP8"
      },
      "execution_count": null,
      "outputs": []
    },
    {
      "cell_type": "markdown",
      "source": [
        "\n",
        "## Slicing\n",
        "\n",
        "Slicing means to get only part of a group of values.\n",
        "It mainly applies to lists, but strings are also considered lists of characters.\n",
        "\n",
        "Let's see a few examples:"
      ],
      "metadata": {
        "id": "vUsjooI72C9W"
      }
    },
    {
      "cell_type": "code",
      "source": [
        "list_a = ['dog', 'cat', 'parrot', 'elephant', 'eagle', 'mouse', 'rat' ]\n",
        "new_sentence = \"this is a series of random words\""
      ],
      "metadata": {
        "id": "kquiAsex2Fid"
      },
      "execution_count": null,
      "outputs": []
    },
    {
      "cell_type": "markdown",
      "source": [
        "Slicing is done using square brackets, and with the following format:\n",
        "\n",
        "[ *start* : *end* : *step* ]\n",
        "\n",
        "any of the three can be omitted.\n",
        "\n",
        "try the following:\n"
      ],
      "metadata": {
        "id": "cjtlgOXg2Hf-"
      }
    },
    {
      "cell_type": "code",
      "source": [
        "list_a[1:3]\n",
        "new_sentence[6:9]"
      ],
      "metadata": {
        "id": "oI9LEsyH2KTI"
      },
      "execution_count": null,
      "outputs": []
    },
    {
      "cell_type": "markdown",
      "source": [
        "\n",
        "From the example above, you will see a *very* important characteristic of Python: **the first element of a list has index 0**.\n",
        "It is important you remember this, because in R the first element of a list has index 1."
      ],
      "metadata": {
        "id": "bEdUcDL22MHz"
      }
    },
    {
      "cell_type": "code",
      "source": [
        "list_a[0:2]\n",
        "new_sentence[5:8]"
      ],
      "metadata": {
        "id": "GWuUwmea2N8P"
      },
      "execution_count": null,
      "outputs": []
    },
    {
      "cell_type": "markdown",
      "source": [
        "The next thing you will notice, is that the *end* means an *end offset minus 1*, or in other words that the end is **not** included.\n",
        "\n",
        "\n",
        "## Conditions\n",
        "\n",
        "Conditions are elements of code where we check if something is *true* or *false*.\n",
        "\n",
        "The code uses the statement *if* / *else* and performs something in between.\n",
        "\n",
        "### Syntax and Indenting\n",
        "\n",
        "By indenting code, we mean the number of spaces from the beginning of the row: python uses indenting to separate blocks of code that need to be run together (loops, conditions) or that are dependent on the lines above (methods).\n",
        "\n",
        "It is important to highlight this, because *not* indenting will prevent your conditionals and loops to run as they should.\n",
        "\n",
        "Let's start with an if/else example:\n"
      ],
      "metadata": {
        "id": "oCnlFSEs2Pmt"
      }
    },
    {
      "cell_type": "code",
      "source": [
        "animal = \"dog\"\n",
        "\n",
        "if (animal == \"cat\"):\n",
        "\tprint(\"this is a cat\")\n",
        "else:\n",
        "\tprint(\"this is NOT a cat\")\n"
      ],
      "metadata": {
        "id": "s7VLgIuR2RY8"
      },
      "execution_count": null,
      "outputs": []
    },
    {
      "cell_type": "markdown",
      "source": [
        "\n",
        "## Loops\n",
        "\n",
        "### For and in\n",
        "\n",
        "Loops are elements of code executed at every element of a collection (a list, a string, a dictionary):"
      ],
      "metadata": {
        "id": "as40B32A2YWj"
      }
    },
    {
      "cell_type": "code",
      "source": [
        "word = \"animal\"\n",
        "animals = ['cat', 'dog', 'parrot']"
      ],
      "metadata": {
        "id": "yo-ex8hS2csv"
      },
      "execution_count": null,
      "outputs": []
    },
    {
      "cell_type": "markdown",
      "source": [
        "Now we can loop either on a string:"
      ],
      "metadata": {
        "id": "JedaMLsG2ejw"
      }
    },
    {
      "cell_type": "code",
      "source": [
        "for letter in word:\n",
        "\tprint(letter)"
      ],
      "metadata": {
        "id": "E3tuVNGn2fzN"
      },
      "execution_count": null,
      "outputs": []
    },
    {
      "cell_type": "markdown",
      "source": [
        "or through the list:"
      ],
      "metadata": {
        "id": "Ms9rLSkX2hZi"
      }
    },
    {
      "cell_type": "code",
      "source": [
        "for element in animals:\n",
        "\tprint(element)"
      ],
      "metadata": {
        "id": "_epVKKz_2jc0"
      },
      "execution_count": null,
      "outputs": []
    },
    {
      "cell_type": "markdown",
      "source": [
        "When you have a loop it is also important to skip one round or even stop the loop, depending on some conditions. \n",
        "\n",
        "- *break* stops the loop\n",
        "- *continue* skips the round\n",
        "\n",
        "let's see an example:"
      ],
      "metadata": {
        "id": "69hhrf-72lZC"
      }
    },
    {
      "cell_type": "code",
      "source": [
        "for letter in word:\n",
        "\tif letter == \"n\":\n",
        "\t\tcontinue\n",
        "\tprint(letter)"
      ],
      "metadata": {
        "id": "8kx7dDcQ2nqB"
      },
      "execution_count": null,
      "outputs": []
    },
    {
      "cell_type": "markdown",
      "source": [
        "or if I want to exit the loop:"
      ],
      "metadata": {
        "id": "b9hi_GyO2p8K"
      }
    },
    {
      "cell_type": "code",
      "source": [
        "for letter in word:\n",
        "\tif letter == \"m\":\n",
        "\t\tbreak\n",
        "\tprint(letter)"
      ],
      "metadata": {
        "id": "VEv-ea-G2sCD"
      },
      "execution_count": null,
      "outputs": []
    },
    {
      "cell_type": "markdown",
      "source": [
        "\n",
        "# Esercizi\n",
        "\n",
        "Cerchiamo di riepilogare quanto visto fino ad ora.\n",
        "\n",
        "Scrivi un codice che:\n",
        "- crei una lista con le seguenti parole: uno, due, tre\n",
        "- esegua un loop di questa lista\n",
        "- all'interno del loop controlli se la parola corrisponde a *due* e nel caso scriva *si*, altrimenti scriva *no*\n",
        "\n",
        "\n",
        "\n",
        "# Additional\n",
        "\n",
        "If there is still time at the end of the class:\n",
        "\n",
        "- slicing: omitting start/end\n",
        "- slicing: step"
      ],
      "metadata": {
        "id": "6q02NdR72vuL"
      }
    }
  ]
}
