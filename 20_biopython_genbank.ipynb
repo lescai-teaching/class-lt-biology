{
  "nbformat": 4,
  "nbformat_minor": 0,
  "metadata": {
    "colab": {
      "name": "20_biopython_genbank.ipynb",
      "provenance": [],
      "authorship_tag": "ABX9TyOSXtiQpt0LeBEZAsiuO0+z",
      "include_colab_link": true
    },
    "kernelspec": {
      "name": "python3",
      "display_name": "Python 3"
    },
    "language_info": {
      "name": "python"
    }
  },
  "cells": [
    {
      "cell_type": "markdown",
      "metadata": {
        "id": "view-in-github",
        "colab_type": "text"
      },
      "source": [
        "<a href=\"https://colab.research.google.com/github/lescai-teaching/class-lt-biology/blob/master/20_biopython_genbank.ipynb\" target=\"_parent\"><img src=\"https://colab.research.google.com/assets/colab-badge.svg\" alt=\"Open In Colab\"/></a>"
      ]
    },
    {
      "cell_type": "markdown",
      "source": [
        "# Biopython - Accessing Genbank\n",
        "\n",
        "## Introduction\n",
        "\n",
        "The goal of Biopython is to make it as easy as possible to use Python for bioinformatics by creating high-quality, reusable modules and classes. \n",
        "\n",
        "Like in previous classes, we need first to install Biopython on this colab environment:"
      ],
      "metadata": {
        "id": "AsnlBAF7Sg0_"
      }
    },
    {
      "cell_type": "code",
      "source": [
        "! pip install biopython"
      ],
      "metadata": {
        "id": "RSIEuAGwS761"
      },
      "execution_count": null,
      "outputs": []
    },
    {
      "cell_type": "markdown",
      "source": [
        "Biopython features include parsers for various Bioinformatics file formats (BLAST, Clustalw, FASTA, Genbank), access to online services (NCBI, Expasy)\n",
        "\n",
        "For more information see the [cookbook](http://biopython.org/DIST/docs/tutorial/Tutorial.html)\n",
        "\n",
        "The first thing we need to do is importing the libraries into our environment:"
      ],
      "metadata": {
        "id": "5Rr7Xu7_S8SA"
      }
    },
    {
      "cell_type": "code",
      "execution_count": null,
      "metadata": {
        "id": "QbotWYBLR5sE"
      },
      "outputs": [],
      "source": [
        "import Bio\n",
        "from Bio import Entrez\n",
        "from Bio import SeqIO\n",
        "import textwrap\n",
        "print(Bio.__version__)\n",
        "Entrez.email = \"A.N.Other@example.com\""
      ]
    },
    {
      "cell_type": "markdown",
      "source": [
        "\n",
        "## Simple Downloads\n",
        "\n",
        "We can now use *Entrez* methods, to download GenBank records based on their identifier.\n",
        "\n",
        "We use the method *efetch* and we need to specify a few parameters:\n",
        "\n",
        "- the database we want to search into (db)\n",
        "- the type of results we would like (rettype)\n",
        "- the format of the download (retmode)\n",
        "- the accession number of the record (id)\n",
        "\n",
        "The code appears as follows:"
      ],
      "metadata": {
        "id": "_l3tggbhSsO6"
      }
    },
    {
      "cell_type": "code",
      "source": [
        "result = Entrez.efetch(\n",
        "    db=\"nucleotide\", rettype=\"fasta\", retmode=\"text\", id=\"MW586689\"\n",
        ")"
      ],
      "metadata": {
        "id": "CUINimdgSuoa"
      },
      "execution_count": null,
      "outputs": []
    },
    {
      "cell_type": "markdown",
      "source": [
        "Once we have the result, we can *parse* (or *read*) our record: *parsing* means transforming this information into something usable.\n",
        "\n",
        "Sometimes parsing means converting a format into a readable one. In other cases, like the following, it means *extracting* some information from a more complex structure."
      ],
      "metadata": {
        "id": "zseZzJ8hSxZt"
      }
    },
    {
      "cell_type": "code",
      "source": [
        "seq_record = SeqIO.read(result, \"fasta\")"
      ],
      "metadata": {
        "id": "H0JC3PiPTQKM"
      },
      "execution_count": null,
      "outputs": []
    },
    {
      "cell_type": "markdown",
      "source": [
        "We can print some of the information we have *parsed* with the following code:"
      ],
      "metadata": {
        "id": "xnhi_JC-TQz0"
      }
    },
    {
      "cell_type": "code",
      "source": [
        "print(\"sequence identifier %s with fasta sequence of length %i\" % (seq_record.id, len(seq_record.seq)))\n",
        "print(\"A taste of sequence is %s\" % repr(seq_record.seq))"
      ],
      "metadata": {
        "id": "nXdOQztjTTJH"
      },
      "execution_count": null,
      "outputs": []
    },
    {
      "cell_type": "markdown",
      "source": [
        "Follow your teacher, for a more complete explanation of the code above.\n",
        "\n",
        "\n",
        "## GenBank records\n",
        "\n",
        "### Inspecting a single record\n",
        "\n",
        "In previous examples we have extracted the records in *fasta* format.\n",
        "Now we're going to extract them in *GenBank* format, i.e. containing all the features you have seen already on the website.\n",
        "\n",
        "For this we choose:\n",
        "\n",
        "- download from the *nucleotide* database\n",
        "- record type (rettype) equals *gb* (i.e. GenBank)\n",
        "- we select a text download (retmode)"
      ],
      "metadata": {
        "id": "GVRJ1LJmTVa1"
      }
    },
    {
      "cell_type": "code",
      "source": [
        "gbresult = Entrez.efetch(db=\"nucleotide\", rettype=\"gb\", retmode=\"text\", id=\"MW586689\")\n",
        "gb_record = SeqIO.read(gbresult, \"genbank\")"
      ],
      "metadata": {
        "id": "XbU2Ww4LTWsm"
      },
      "execution_count": null,
      "outputs": []
    },
    {
      "cell_type": "markdown",
      "source": [
        "Now that we have fetched the record, and parsed the data, we can inspect the structure of the record we have downloaded, by printing the features:"
      ],
      "metadata": {
        "id": "k7MbCJZOTd2x"
      }
    },
    {
      "cell_type": "code",
      "source": [
        "print(str(gb_record.features))"
      ],
      "metadata": {
        "id": "Xp6pVI_ETfqE"
      },
      "execution_count": null,
      "outputs": []
    },
    {
      "cell_type": "markdown",
      "source": [
        "Now, this is a bit difficult to read.\n",
        "\n",
        "So let's have a look at the first one:"
      ],
      "metadata": {
        "id": "y29Iye9LThSm"
      }
    },
    {
      "cell_type": "code",
      "source": [
        "print(str(gb_record.features[0]))"
      ],
      "metadata": {
        "id": "gd_ZY0gKTjD1"
      },
      "execution_count": null,
      "outputs": []
    },
    {
      "cell_type": "markdown",
      "source": [
        "We understand a little better the structure now. This feature has three objects, i.e. identified by the names printed without indentation:\n",
        "\n",
        "- type\n",
        "- location\n",
        "- qualifiers\n",
        "\n",
        "Then, the object qualifier is a dictionary: I can understand this because of the *key* - *value* pair structure.\n",
        "\n",
        "Therefore, if I wanted to grab the host organism I'd print:"
      ],
      "metadata": {
        "id": "4YmdwGRxTkmF"
      }
    },
    {
      "cell_type": "code",
      "source": [
        "print(str(gb_record.features[0].qualifiers[\"host\"]))"
      ],
      "metadata": {
        "id": "bK37FtOJTnNe"
      },
      "execution_count": null,
      "outputs": []
    },
    {
      "cell_type": "markdown",
      "source": [
        "\n",
        "### Fetching multiple records\n",
        "\n",
        "If we pass a list to the *id* parameters, this will fetch records corresponding to each of the accession numbers we have passed.\n",
        "\n",
        "In order to simplify the inspection of the data, we're fetching some proteins from the protein database instead of nucleotide."
      ],
      "metadata": {
        "id": "fmtd8r95To0T"
      }
    },
    {
      "cell_type": "code",
      "source": [
        "protein_list = Entrez.efetch(db=\"protein\", rettype=\"fasta\", retmode=\"text\", id=\"QRK24690,QRO03507,QRU93410,QRI43434,QRX39425,QRD95445,QRC42505,QRF69711\")"
      ],
      "metadata": {
        "id": "jsbWjouqTve7"
      },
      "execution_count": null,
      "outputs": []
    },
    {
      "cell_type": "markdown",
      "source": [
        "\n",
        "When we have multiple records to parse, we don't use the method *read* but we need to use the method *parse*, which loops through each of them:"
      ],
      "metadata": {
        "id": "_7r7wJTNTwUg"
      }
    },
    {
      "cell_type": "code",
      "source": [
        "records = SeqIO.parse(protein_list, \"fasta\")"
      ],
      "metadata": {
        "id": "BuUjAotdTy8R"
      },
      "execution_count": null,
      "outputs": []
    },
    {
      "cell_type": "markdown",
      "source": [
        "Now our *records* is an iterable object, which we can loop through in a for loop:"
      ],
      "metadata": {
        "id": "y7uq0r1-T0aW"
      }
    },
    {
      "cell_type": "code",
      "source": [
        "for protein in records:\n",
        "  print(\"%s\" % protein.id)\n",
        "  print(\"%s\" % protein.seq)"
      ],
      "metadata": {
        "id": "sv2XN7QWT3Us"
      },
      "execution_count": null,
      "outputs": []
    },
    {
      "cell_type": "markdown",
      "source": [
        "If we wanted to download the fasta sequence of all these records, we'd simply write the following code.\n",
        "Follow your teacher for a detailed explanation:"
      ],
      "metadata": {
        "id": "eJOdCCVbT4YA"
      }
    },
    {
      "cell_type": "code",
      "source": [
        "protein_list = Entrez.efetch(db=\"protein\", rettype=\"fasta\", retmode=\"text\", id=\"QRK24690,QRO03507,QRU93410,QRI43434,QRX39425,QRD95445,QRC42505,QRF69711\")\n",
        "records = SeqIO.parse(protein_list, \"fasta\")\n",
        "handle = open(\"input.fasta\", mode='a')\n",
        "for record in records:\n",
        "  handle.write(\">%s\\n%s\\n\" % (record.id, record.seq))\n",
        "  print(\">%s\\n%s\\n\" % (record.id, repr(record.seq)))"
      ],
      "metadata": {
        "id": "Xu9KOOUwT57c"
      },
      "execution_count": null,
      "outputs": []
    },
    {
      "cell_type": "markdown",
      "source": [
        "\n",
        "In the example above, we have downloaded protein sequences.\n",
        "\n",
        "Let's inspect again a GenBank record though, at [this link](https://www.ncbi.nlm.nih.gov/nuccore/MW662150)\n",
        "\n",
        "Actually, the translation of the spike protein is already present in the whole genome record.\n",
        "\n",
        "We just need to find a way to extract it.\n",
        "\n",
        "Let's write a function for it.\n",
        "Follow your teacher for a detailed explanation of the choices in the code:"
      ],
      "metadata": {
        "id": "3ZjKV_96T9yH"
      }
    },
    {
      "cell_type": "code",
      "source": [
        "def get_spike_from_gb(record):\n",
        "    for feature in record.features:\n",
        "        if feature.type == \"CDS\" and 'S' in feature.qualifiers.get(\"gene\"):\n",
        "            identifier = feature.qualifiers.get(\"protein_id\")[0]\n",
        "            sequence = feature.qualifiers.get(\"translation\")[0]\n",
        "            results = [record.id, identifier, sequence]\n",
        "            #print(\"for genome %s we got protein %s with sequence\\n%s\\n\" % (record.id, identifier, sequence))\n",
        "            return results"
      ],
      "metadata": {
        "id": "yfSgFjJJUAPF"
      },
      "execution_count": null,
      "outputs": []
    },
    {
      "cell_type": "markdown",
      "source": [
        "\n",
        "Now we just have to apply it.\n",
        "\n",
        "First we get some genome records."
      ],
      "metadata": {
        "id": "gRZ2C11CUCsk"
      }
    },
    {
      "cell_type": "code",
      "source": [
        "gbresultList = Entrez.efetch(db=\"nucleotide\", rettype=\"gb\", retmode=\"test\", id=\"MW662150,MW662159,MW642248,MW621433,MW580576\")\n",
        "recordsList = SeqIO.parse(gbresultList, \"genbank\")"
      ],
      "metadata": {
        "id": "mS781_uRUEWI"
      },
      "execution_count": null,
      "outputs": []
    },
    {
      "cell_type": "markdown",
      "source": [
        "Then we loop through them, we extract the S protein and we write them in a file."
      ],
      "metadata": {
        "id": "bDiwLombUGAG"
      }
    },
    {
      "cell_type": "code",
      "source": [
        "for record in recordsList:\n",
        "    spike = get_spike_from_gb(record)\n",
        "    fileName = \"genome-\" + spike[0] + \"_spike-\" + spike[1] + \".fasta\"\n",
        "    handle = open(fileName, mode=\"w\")\n",
        "    handle.write(\">%s_%s\\n%s\" % tuple(spike))"
      ],
      "metadata": {
        "id": "0Ik15DfuUIt0"
      },
      "execution_count": null,
      "outputs": []
    }
  ]
}