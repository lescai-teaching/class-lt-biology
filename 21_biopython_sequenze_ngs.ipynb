{
  "nbformat": 4,
  "nbformat_minor": 0,
  "metadata": {
    "colab": {
      "name": "21_biopython_sequenze-ngs.ipynb",
      "provenance": [],
      "authorship_tag": "ABX9TyPskaQff3JE+4Hsq7mMkKN+",
      "include_colab_link": true
    },
    "kernelspec": {
      "name": "python3",
      "display_name": "Python 3"
    },
    "language_info": {
      "name": "python"
    }
  },
  "cells": [
    {
      "cell_type": "markdown",
      "metadata": {
        "id": "view-in-github",
        "colab_type": "text"
      },
      "source": [
        "<a href=\"https://colab.research.google.com/github/lescai-teaching/class-lt-biology/blob/master/21_biopython_sequenze_ngs.ipynb\" target=\"_parent\"><img src=\"https://colab.research.google.com/assets/colab-badge.svg\" alt=\"Open In Colab\"/></a>"
      ]
    },
    {
      "cell_type": "markdown",
      "source": [
        "# Biopython: working with NGS reads\n",
        "\n",
        "## Setup\n",
        "\n",
        "As usual, we first need to install Biopython in our system:"
      ],
      "metadata": {
        "id": "3i5kdyqbU-wV"
      }
    },
    {
      "cell_type": "code",
      "execution_count": null,
      "metadata": {
        "id": "EdnRfY8gU2YW"
      },
      "outputs": [],
      "source": [
        "! pip install biopython"
      ]
    },
    {
      "cell_type": "markdown",
      "source": [
        "From the entire biopython library we start by importing the methods to handle sequences, called **SeqIO**\n"
      ],
      "metadata": {
        "id": "z6k36HFgU-SP"
      }
    },
    {
      "cell_type": "code",
      "source": [
        "from Bio import SeqIO"
      ],
      "metadata": {
        "id": "bY_57zyMVLtS"
      },
      "execution_count": null,
      "outputs": []
    },
    {
      "cell_type": "markdown",
      "source": [
        "\n",
        "## Importing the reads\n",
        "\n",
        "We have an example FASTQ in our repository: first we need to download it (terminal command), then we use the method *parse* to read it:\n"
      ],
      "metadata": {
        "id": "VJ5JyQ7uVNLm"
      }
    },
    {
      "cell_type": "code",
      "source": [
        "! wget https://github.com/lescai-teaching/class-lt-biology/raw/master/classes/21_biopython-sequences/sample.fastq"
      ],
      "metadata": {
        "id": "lqwgTFZqVO72"
      },
      "execution_count": null,
      "outputs": []
    },
    {
      "cell_type": "markdown",
      "source": [
        "then we can read it"
      ],
      "metadata": {
        "id": "UrE4fnEQWBPE"
      }
    },
    {
      "cell_type": "code",
      "source": [
        "data = SeqIO.parse( 'sample.fastq', 'fastq')"
      ],
      "metadata": {
        "id": "cIxcrPgNWClz"
      },
      "execution_count": null,
      "outputs": []
    },
    {
      "cell_type": "markdown",
      "source": [
        "\n",
        "Like for GenBank, we now have an iterable object which is a little difficult to inspect. We can look at the methods to access it by typing:\n"
      ],
      "metadata": {
        "id": "UizDNsvCWREY"
      }
    },
    {
      "cell_type": "code",
      "source": [
        "str(data)"
      ],
      "metadata": {
        "id": "YwMK3EXcWRjk"
      },
      "execution_count": null,
      "outputs": []
    },
    {
      "cell_type": "markdown",
      "source": [
        "Since it is not a list, but a complex iterable object, we can just pop out one element with *next* and have a look at it:"
      ],
      "metadata": {
        "id": "lTvg61cvWS0U"
      }
    },
    {
      "cell_type": "code",
      "source": [
        "record = next(data)"
      ],
      "metadata": {
        "id": "jtdvjl-tWUcu"
      },
      "execution_count": null,
      "outputs": []
    },
    {
      "cell_type": "markdown",
      "source": [
        "now we can print it:"
      ],
      "metadata": {
        "id": "dPnjHvKiWWFe"
      }
    },
    {
      "cell_type": "code",
      "source": [
        "print(str(record))"
      ],
      "metadata": {
        "id": "0mVq3qehWXYY"
      },
      "execution_count": null,
      "outputs": []
    },
    {
      "cell_type": "markdown",
      "source": [
        "Or print more details:"
      ],
      "metadata": {
        "id": "nQCrIvVaWZTh"
      }
    },
    {
      "cell_type": "code",
      "source": [
        "print(record.id, \"\\n\", record.description, \"\\n\", record.seq)\n",
        "print(str(len(record.seq)))"
      ],
      "metadata": {
        "id": "raDrfbFSWakQ"
      },
      "execution_count": null,
      "outputs": []
    },
    {
      "cell_type": "markdown",
      "source": [
        "\n",
        "The code below is ok because we don't have many sequences, but it will fill in your page and it is not recommended for real data:\n"
      ],
      "metadata": {
        "id": "KiLOqp4TWcFn"
      }
    },
    {
      "cell_type": "code",
      "source": [
        "for record in data:\n",
        "    print(str(len(record.seq)))"
      ],
      "metadata": {
        "id": "nOCg2axcWegS"
      },
      "execution_count": null,
      "outputs": []
    },
    {
      "cell_type": "markdown",
      "source": [
        "\n",
        "\n",
        "## Counting the reads\n",
        "\n",
        "We can use the same loop in order to count the reads with a counter."
      ],
      "metadata": {
        "id": "ivUjk4TdWhxc"
      }
    },
    {
      "cell_type": "code",
      "source": [
        "count = 0\n",
        "for rec in SeqIO.parse('sample.fastq', \"fastq\"):\n",
        "    count += 1\n",
        "print(\"%i reads\" % count)"
      ],
      "metadata": {
        "id": "tYHRNfcPWicb"
      },
      "execution_count": null,
      "outputs": []
    },
    {
      "cell_type": "markdown",
      "source": [
        "Obviously, there are smarter ways to do that.\n",
        "\n",
        "\n",
        "## Filtering the reads\n",
        "\n",
        "We can access the Phred quality of the reads and use it to filter our data: this is an important real case."
      ],
      "metadata": {
        "id": "cKTQsRZzWkMz"
      }
    },
    {
      "cell_type": "code",
      "source": [
        "good_reads = (rec for rec in \\\n",
        "              SeqIO.parse('sample.fastq', \"fastq\") \\\n",
        "              if min(rec.letter_annotations[\"phred_quality\"]) >= 10)\n",
        "count = SeqIO.write(good_reads, \"good_quality.fastq\", \"fastq\")\n",
        "print(\"Saved %i reads\" % count)"
      ],
      "metadata": {
        "id": "xWL2pE_mWteD"
      },
      "execution_count": null,
      "outputs": []
    },
    {
      "cell_type": "markdown",
      "source": [
        "\n",
        "These are simulated reads, and their quality is clearly not great.\n",
        "Let's get some more details.\n",
        "\n",
        "## Inspecting Quality\n",
        "\n",
        "We are doing a bit of math here, so we need to import the appropriate libraries."
      ],
      "metadata": {
        "id": "YPzkz8X8WoFJ"
      }
    },
    {
      "cell_type": "code",
      "source": [
        "import matplotlib as mpl\n",
        "mpl.use('Agg')\n",
        "import matplotlib.pyplot as pyplot\n",
        "import numpy as np"
      ],
      "metadata": {
        "id": "1XBiSGwYW1e4"
      },
      "execution_count": null,
      "outputs": []
    },
    {
      "cell_type": "markdown",
      "source": [
        "In order to save these data for future use, we instantiate a few empty lists which we can fill with loops:"
      ],
      "metadata": {
        "id": "30-rvlq1XPof"
      }
    },
    {
      "cell_type": "code",
      "source": [
        "pList = []\n",
        "phredList =[]\n",
        "lengths = []"
      ],
      "metadata": {
        "id": "QQ9JMx2pXQJp"
      },
      "execution_count": null,
      "outputs": []
    },
    {
      "cell_type": "markdown",
      "source": [
        "\n",
        "It is important to notice that we need to parse the fastq file again because the list is consumed every time we loop through it."
      ],
      "metadata": {
        "id": "h6fiYj9JXRZC"
      }
    },
    {
      "cell_type": "code",
      "source": [
        "data = SeqIO.parse( 'sample.fastq', 'fastq')"
      ],
      "metadata": {
        "id": "sJw9W2VrXTfb"
      },
      "execution_count": null,
      "outputs": []
    },
    {
      "cell_type": "markdown",
      "source": [
        "Now we can loop through it and extract the data."
      ],
      "metadata": {
        "id": "eEZiWdpiXXYV"
      }
    },
    {
      "cell_type": "code",
      "source": [
        "for record in data:\n",
        "    pArray = []\n",
        "    phredArray = []\n",
        "    qualities = record.letter_annotations[\"phred_quality\"]\n",
        "    for Q in qualities:\n",
        "        # convert the PHRED score to a probability\n",
        "        p = 10**(-float(Q)/10)\n",
        "        # append this specific probabity to array for this sequence\n",
        "        pArray = pArray + [p] \n",
        "        phredArray += [Q]\n",
        "    # now append the sequence's probablity to a list of all of them    \n",
        "    pList = pList + [pArray]\n",
        "    # also append the phred qualities as they are\n",
        "    phredList += [phredArray]\n",
        "    # store the length of the probability array (same as length of sequence)\n",
        "    lengths += [len(pArray)]"
      ],
      "metadata": {
        "id": "K46HWYyNXY7G"
      },
      "execution_count": null,
      "outputs": []
    },
    {
      "cell_type": "markdown",
      "source": [
        "we can see lenghts are not all the same"
      ],
      "metadata": {
        "id": "6c2IggsaXbL6"
      }
    },
    {
      "cell_type": "code",
      "source": [
        "min(lengths)\n",
        "max(lengths)"
      ],
      "metadata": {
        "id": "chjIKfnYXd0I"
      },
      "execution_count": null,
      "outputs": []
    },
    {
      "cell_type": "markdown",
      "source": [
        "now for plotting. Initialize x and y arrays to plot:"
      ],
      "metadata": {
        "id": "FhrkeVxYXc5A"
      }
    },
    {
      "cell_type": "code",
      "source": [
        "x = []\n",
        "y = []"
      ],
      "metadata": {
        "id": "10oUXG4mXgoZ"
      },
      "execution_count": null,
      "outputs": []
    },
    {
      "cell_type": "markdown",
      "source": [
        "add the average probabilties to the y values:"
      ],
      "metadata": {
        "id": "Jiww3WjQXiN6"
      }
    },
    {
      "cell_type": "code",
      "source": [
        "for i in range(min(lengths)):\n",
        "    p_i = []\n",
        "    for p in pList:\n",
        "        p_i = p_i + [p[i]]\n",
        "    pAvg = sum(p_i)/len(p_i)\n",
        "    x.append(i)\n",
        "    y.append(pAvg)"
      ],
      "metadata": {
        "id": "RlUQKmyZXkye"
      },
      "execution_count": null,
      "outputs": []
    },
    {
      "cell_type": "markdown",
      "source": [
        "plot the x and y values:"
      ],
      "metadata": {
        "id": "2Ccl4r-6Xj7z"
      }
    },
    {
      "cell_type": "code",
      "source": [
        "pyplot.figure(0)\n",
        "pyplot.plot(x,y)\n",
        "pyplot.xlabel('position (nt)')\n",
        "pyplot.ylabel('Averge error probability')\n",
        "pyplot.savefig('quality.png')"
      ],
      "metadata": {
        "id": "h57M4vXUXnlU"
      },
      "execution_count": null,
      "outputs": []
    },
    {
      "cell_type": "markdown",
      "source": [
        "Now we saved the image as a file, we need some more Python magic to display it here in the notebook:"
      ],
      "metadata": {
        "id": "9C8-p0H_aqYT"
      }
    },
    {
      "cell_type": "code",
      "source": [
        "from IPython.display import Image, display\n",
        "display(Image('quality.png'))"
      ],
      "metadata": {
        "id": "U6jw4a1mawnS"
      },
      "execution_count": null,
      "outputs": []
    },
    {
      "cell_type": "markdown",
      "source": [
        "\n",
        "# Pandas\n",
        "\n",
        "Pandas is an important tool for data science in python, because it allows to store data in a tabular format.\n",
        "\n",
        "This is much easier to read and understand than the array structure or the list of lists structure we have used above.\n"
      ],
      "metadata": {
        "id": "KS5Qkq0gXquX"
      }
    },
    {
      "cell_type": "code",
      "source": [
        "import pandas as pd"
      ],
      "metadata": {
        "id": "0nvAKu9qXslh"
      },
      "execution_count": null,
      "outputs": []
    },
    {
      "cell_type": "markdown",
      "source": [
        "\n",
        "## Convert array into data frame\n",
        "\n",
        "Now we can use Pandas to convert our list of lists to a data frame."
      ],
      "metadata": {
        "id": "1E9qTc8PXtHz"
      }
    },
    {
      "cell_type": "code",
      "source": [
        "df = pd.DataFrame(pList)"
      ],
      "metadata": {
        "id": "NX4E5hbDXu_6"
      },
      "execution_count": null,
      "outputs": []
    },
    {
      "cell_type": "markdown",
      "source": [
        "We can use the method *shape* to see the number of rows and columns of our table."
      ],
      "metadata": {
        "id": "c1VOuutlXwq6"
      }
    },
    {
      "cell_type": "code",
      "source": [
        "df.shape"
      ],
      "metadata": {
        "id": "yMBol5g-Xyn9"
      },
      "execution_count": null,
      "outputs": []
    },
    {
      "cell_type": "markdown",
      "source": [
        "\n",
        "Pandas Data frames are like dictionaries, where columns could have names.\n",
        "\n",
        "In our case we did not assign names, so each column can be accessed by number like below:\n"
      ],
      "metadata": {
        "id": "KkL4kK_XXz1n"
      }
    },
    {
      "cell_type": "code",
      "source": [
        "df[0]"
      ],
      "metadata": {
        "id": "0h_5AhEOX1um"
      },
      "execution_count": null,
      "outputs": []
    },
    {
      "cell_type": "markdown",
      "source": [
        "\n",
        "We will do the same for plotting average probabilities, but this time with much less code:\n"
      ],
      "metadata": {
        "id": "oiwCjNmsX202"
      }
    },
    {
      "cell_type": "code",
      "source": [
        "base = []\n",
        "val = []\n",
        "for i in range(min(lengths)):\n",
        "    base.append(i)\n",
        "    val.append(sum(df[i])/len(df[i]))"
      ],
      "metadata": {
        "id": "kRkU38CcX4fp"
      },
      "execution_count": null,
      "outputs": []
    },
    {
      "cell_type": "markdown",
      "source": [
        "Now we can plot the base position in x and average p in y values:"
      ],
      "metadata": {
        "id": "iKBAjngYX6b9"
      }
    },
    {
      "cell_type": "code",
      "source": [
        "pyplot.plot(base,val)\n",
        "pyplot.xlabel('position (nt)')\n",
        "pyplot.ylabel('Averge error probability')\n",
        "pyplot.savefig('quality_2.png')"
      ],
      "metadata": {
        "id": "3jvIimTpX8Sw"
      },
      "execution_count": null,
      "outputs": []
    },
    {
      "cell_type": "markdown",
      "source": [
        "same Python magic to display this new figure:"
      ],
      "metadata": {
        "id": "lMbNlusla5Fe"
      }
    },
    {
      "cell_type": "code",
      "source": [
        "display(Image('quality_2.png'))"
      ],
      "metadata": {
        "id": "MK6DC6NJa8sr"
      },
      "execution_count": null,
      "outputs": []
    },
    {
      "cell_type": "markdown",
      "source": [
        "We could have done the same for the phred qualities"
      ],
      "metadata": {
        "id": "jBNcmbagX-cA"
      }
    },
    {
      "cell_type": "code",
      "source": [
        "phredData = pd.DataFrame(phredList)\n",
        "\n",
        "print(phredData)"
      ],
      "metadata": {
        "id": "OiBaBpkDYAY8"
      },
      "execution_count": null,
      "outputs": []
    },
    {
      "cell_type": "markdown",
      "source": [
        "Like above we instantiate our list of values to be plotted and we fill it in, with a loop\n"
      ],
      "metadata": {
        "id": "aSMgM9GWYClV"
      }
    },
    {
      "cell_type": "code",
      "source": [
        "base = []\n",
        "val = []\n",
        "\n",
        "for i in range(min(lengths)):\n",
        "    base.append(i)\n",
        "    val.append(sum(phredData[i])/len(phredData[i]))"
      ],
      "metadata": {
        "id": "EG3wxN_uYERL"
      },
      "execution_count": null,
      "outputs": []
    },
    {
      "cell_type": "markdown",
      "source": [
        "Now we are ready to plot the base position in x and average p in y values:"
      ],
      "metadata": {
        "id": "KvHLSqJeYGyi"
      }
    },
    {
      "cell_type": "code",
      "source": [
        "pyplot.figure(2)\n",
        "pyplot.plot(base,val)\n",
        "pyplot.xlabel('position (nt)')\n",
        "pyplot.ylabel('Averge Phred Quality')\n",
        "pyplot.savefig('quality_phred.png')"
      ],
      "metadata": {
        "id": "g5bLYuQmYJ5T"
      },
      "execution_count": null,
      "outputs": []
    },
    {
      "cell_type": "markdown",
      "source": [
        "And now we can compare the two, in order to appreciate the difference between _error probability_ and _phred quality_:"
      ],
      "metadata": {
        "id": "YwKor6IubF0U"
      }
    },
    {
      "cell_type": "code",
      "source": [
        "display(Image('quality_2.png'))\n",
        "display(Image('quality_phred.png'))"
      ],
      "metadata": {
        "id": "RuPSCu_kbIK1"
      },
      "execution_count": null,
      "outputs": []
    }
  ]
}