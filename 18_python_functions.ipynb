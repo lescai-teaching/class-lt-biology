{
  "nbformat": 4,
  "nbformat_minor": 0,
  "metadata": {
    "colab": {
      "name": "18_python_functions.ipynb",
      "provenance": [],
      "authorship_tag": "ABX9TyPnAqJUJTsYwcbh2urtURnC",
      "include_colab_link": true
    },
    "kernelspec": {
      "name": "python3",
      "display_name": "Python 3"
    },
    "language_info": {
      "name": "python"
    }
  },
  "cells": [
    {
      "cell_type": "markdown",
      "metadata": {
        "id": "view-in-github",
        "colab_type": "text"
      },
      "source": [
        "<a href=\"https://colab.research.google.com/github/lescai-teaching/class-lt-biology/blob/master/18_python_functions.ipynb\" target=\"_parent\"><img src=\"https://colab.research.google.com/assets/colab-badge.svg\" alt=\"Open In Colab\"/></a>"
      ]
    },
    {
      "cell_type": "markdown",
      "source": [
        "# Python Functions\n",
        "\n",
        "## Define a function\n",
        "\n",
        "A function is defined with *def*, followed by the name of the function and parenthesis.\n",
        "\n",
        "As usual, we then indent anything we want to code as part of the function we have just defined.\n",
        "\n",
        "The command *return* specifies the value we want the function to produce and pass outside the function."
      ],
      "metadata": {
        "id": "2CySb2JCrpUH"
      }
    },
    {
      "cell_type": "code",
      "execution_count": null,
      "metadata": {
        "id": "79EwvWi2rkid"
      },
      "outputs": [],
      "source": [
        "def agree():\n",
        "\treturn True"
      ]
    },
    {
      "cell_type": "markdown",
      "source": [
        "We can call a function, by typing its name followed by the parenthesis:"
      ],
      "metadata": {
        "id": "1yu1Flz7rnzO"
      }
    },
    {
      "cell_type": "code",
      "source": [
        "agree()"
      ],
      "metadata": {
        "id": "mo4BQgGwrxz0"
      },
      "execution_count": null,
      "outputs": []
    },
    {
      "cell_type": "markdown",
      "source": [
        "## Arguments\n",
        "\n",
        "\n",
        "### Basics \n",
        "\n",
        "Values that are given *to* the function are called *arguments*. When you call a function with arguments, the values of those arguments are copied to corresponding *parameters* inside the function."
      ],
      "metadata": {
        "id": "T-PTnMQ_rze0"
      }
    },
    {
      "cell_type": "code",
      "source": [
        "def echo(text):\n",
        "\tprint(\"I have received: \" + text)"
      ],
      "metadata": {
        "id": "3KcHFVUIr2nH"
      },
      "execution_count": null,
      "outputs": []
    },
    {
      "cell_type": "markdown",
      "source": [
        "Let's call it:"
      ],
      "metadata": {
        "id": "CdCZ2bK3r2OH"
      }
    },
    {
      "cell_type": "code",
      "source": [
        "echo('random')"
      ],
      "metadata": {
        "id": "GiJNSfTqr6Mk"
      },
      "execution_count": null,
      "outputs": []
    },
    {
      "cell_type": "markdown",
      "source": [
        "### Positional or Keyword arguments\n",
        "\n",
        "Arguments are handled in a very flexible way in Python: valued passed to a function are copied to the corresponding parameters *in order*.\n",
        "\n",
        "However, one can also pass the arguments by name: this way one avoids confusion with positions.\n",
        "\n",
        "Let's see an example:"
      ],
      "metadata": {
        "id": "zxONNRXUr8PQ"
      }
    },
    {
      "cell_type": "code",
      "source": [
        "def write_menu(entree, main, dessert):\n",
        "\tprint(\"\\nToday's menu is going to be:\")\n",
        "\tprint(\"------------------------------\")\n",
        "\tprint(\"For starters, we're gonna have: \" + entree + \"\\n---\")\n",
        "\tprint(\"As main, the Chef has chosen: \" + main + \"\\n---\")\n",
        "\tprint(\"And finally for pudding, you'll enjoy: \" + dessert + \"\\n======\")"
      ],
      "metadata": {
        "id": "c-FC7YuMr-8v"
      },
      "execution_count": null,
      "outputs": []
    },
    {
      "cell_type": "markdown",
      "source": [
        "We can call the function by:"
      ],
      "metadata": {
        "id": "39yq9l7rsBdu"
      }
    },
    {
      "cell_type": "code",
      "source": [
        "write_menu('crostini', 'bistecca', 'crostata')"
      ],
      "metadata": {
        "id": "oQiNh9-IsD4H"
      },
      "execution_count": null,
      "outputs": []
    },
    {
      "cell_type": "markdown",
      "source": [
        "But clearly if you write:"
      ],
      "metadata": {
        "id": "IuenpgTIsDcC"
      }
    },
    {
      "cell_type": "code",
      "source": [
        "write_menu('crostata', 'bistecca', 'crostini')"
      ],
      "metadata": {
        "id": "KwF9SaYBsHAr"
      },
      "execution_count": null,
      "outputs": []
    },
    {
      "cell_type": "markdown",
      "source": [
        "You are not going to get the menu you'd ideally expect.\n",
        "\n",
        "\n",
        "So one can solve this by using the keyword arguments:"
      ],
      "metadata": {
        "id": "Kg6EkTOksKGD"
      }
    },
    {
      "cell_type": "code",
      "source": [
        "write_menu(dessert='crostata', main='bistecca', entree='crostini')"
      ],
      "metadata": {
        "id": "3CtT2oAgsMq6"
      },
      "execution_count": null,
      "outputs": []
    },
    {
      "cell_type": "markdown",
      "source": [
        "We don't need to write the arguments in order anymore, as they appear in the function definition, because we have passed their value according to the arguments keywords.\n",
        "\n",
        "However, if we do not pass all the arguments a function expects, we will receive an error:"
      ],
      "metadata": {
        "id": "3E7gSsTWsOr-"
      }
    },
    {
      "cell_type": "code",
      "source": [
        "write_menu(dessert='crostata', main='bistecca')"
      ],
      "metadata": {
        "id": "NBrLMOhiuYnQ"
      },
      "execution_count": null,
      "outputs": []
    },
    {
      "cell_type": "markdown",
      "source": [
        "Using keyword arguments also allows us to define *default values*, which could be important."
      ],
      "metadata": {
        "id": "whYH2bckuaO3"
      }
    },
    {
      "cell_type": "code",
      "source": [
        "def write_menu(entree='crostini', main='insalata', dessert='tiramisu'):\n",
        "\tprint(\"\\nToday's menu is going to be:\")\n",
        "\tprint(\"------------------------------\")\n",
        "\tprint(\"For starters, we're gonna have: \" + entree + \"\\n---\")\n",
        "\tprint(\"As main, the Chef has chosen: \" + main + \"\\n---\")\n",
        "\tprint(\"And finally for pudding, you'll enjoy: \" + dessert + \"\\n======\")"
      ],
      "metadata": {
        "id": "j80lIBghucXW"
      },
      "execution_count": null,
      "outputs": []
    },
    {
      "cell_type": "markdown",
      "source": [
        "Now we don't need to pass all the arguments anymore."
      ],
      "metadata": {
        "id": "AI0B03Awueam"
      }
    },
    {
      "cell_type": "code",
      "source": [
        "write_menu(dessert='crostata', main='bistecca')"
      ],
      "metadata": {
        "id": "svTg7SR_ugWQ"
      },
      "execution_count": null,
      "outputs": []
    },
    {
      "cell_type": "markdown",
      "source": [
        "# Writing your code\n",
        "\n",
        "## Script structure\n",
        "\n",
        "Python is a very flexible language, and you don't need to stick to a specific structure to write functional code.\n",
        "\n",
        "However, following a suggested structure helps preventing a few issues, especially when you'd like to re-use your code, and import the functions you have already written in order scripts.\n",
        "\n",
        "### Begin with a shebang\n",
        "\n",
        "A shebang is a commented line of code, which tells any interpreter what language is going to be present in the script you are writing.\n",
        "This is the very first line of your script, in all languages you might be writing (of course, change the language if not Python):"
      ],
      "metadata": {
        "id": "LuDvxra8uh_M"
      }
    },
    {
      "cell_type": "code",
      "source": [
        "#!/usr/bin/env python3"
      ],
      "metadata": {
        "id": "3-eCQMtyulbj"
      },
      "execution_count": null,
      "outputs": []
    },
    {
      "cell_type": "markdown",
      "source": [
        "### Import any package you need\n",
        "\n",
        "Following the shebang, we might need to import some packages useful for our scripts.\n",
        "In this specific case, if we want to print the menu, we need to capture use inputs. \n",
        "\n",
        "Scripts have arguments, like functions do.\n",
        "Capturing keyword arguments in a script is requires a package called *argparse* and a bit of learning, so to begin with we will stick with the *sys* package, which allows us to capture just arguments by position."
      ],
      "metadata": {
        "id": "hz66UIscunlF"
      }
    },
    {
      "cell_type": "code",
      "source": [
        "import sys"
      ],
      "metadata": {
        "id": "8XgJuxOKuq6E"
      },
      "execution_count": null,
      "outputs": []
    },
    {
      "cell_type": "markdown",
      "source": [
        "### Define your functions\n",
        "\n",
        "If we wanted to create a script to write the menu, we would continue the script with the function we have defined:\n"
      ],
      "metadata": {
        "id": "8ydrnfBcus4W"
      }
    },
    {
      "cell_type": "code",
      "source": [
        "def write_menu(entree='crostini', main='insalata', dessert='tiramisu'):\n",
        "\tprint(\"\\nToday's menu is going to be:\")\n",
        "\tprint(\"------------------------------\")\n",
        "\tprint(\"For starters, we're gonna have: \" + entree + \"\\n---\")\n",
        "\tprint(\"As main, the Chef has chosen: \" + main + \"\\n---\")\n",
        "\tprint(\"And finally for pudding, you'll enjoy: \" + dessert + \"\\n======\")"
      ],
      "metadata": {
        "id": "sTTg3VIsuu_B"
      },
      "execution_count": null,
      "outputs": []
    },
    {
      "cell_type": "markdown",
      "source": [
        "We can also define a function to capture the arguments we pass when we execute the script, assuming that by position they are going to be the entree, main and dessert.\n"
      ],
      "metadata": {
        "id": "KBxMCO4kuxNo"
      }
    },
    {
      "cell_type": "code",
      "source": [
        "def get_arguments():\n",
        "\tentree = sys.argv[1]\n",
        "\tmain = sys.argv[2]\n",
        "\tdessert = sys.argv[3]\n",
        "\treturn (entree, main, dessert)"
      ],
      "metadata": {
        "id": "BGQRaHRDuzCp"
      },
      "execution_count": null,
      "outputs": []
    },
    {
      "cell_type": "markdown",
      "source": [
        "\n",
        "### Define the main code\n",
        "\n",
        "This is the important bit: once you have defined all the functions, there's a special *function* you should call *main()* (NB: no arguments), which defines what your script is going to do.\n",
        "\n",
        "In our case, just call the menu function:\n"
      ],
      "metadata": {
        "id": "cZaW7bQlu0_k"
      }
    },
    {
      "cell_type": "code",
      "source": [
        "def main():\n",
        "\tentree, main, dessert = get_arguments()\n",
        "\twrite_menu(entree, main, dessert)"
      ],
      "metadata": {
        "id": "hw8GIb3zu3Ew"
      },
      "execution_count": null,
      "outputs": []
    },
    {
      "cell_type": "markdown",
      "source": [
        "### Setup the code execution\n",
        "\n",
        "This is a special way to execute the function we have defined as *main()*, which most beginners do not use.\n",
        "\n",
        "It is important however to acquire this practice early on, because it ensures you can re-use all your scripts, and that when you use the *import* statement on your code, it does **not** get executed:\n"
      ],
      "metadata": {
        "id": "tBYTp79Nu4nO"
      }
    },
    {
      "cell_type": "code",
      "source": [
        "if __name__ == '__main__':\n",
        "\tmain()"
      ],
      "metadata": {
        "id": "W62c3Z8Ou61L"
      },
      "execution_count": null,
      "outputs": []
    },
    {
      "cell_type": "markdown",
      "source": [
        "\n",
        "Variables called with double underscores are special variables, and the code above is simply saying: if the name of the script I'm writing on the terminal corresponds to the name of the script file, then execute the main function. It basically detects when the code is executed, as opposed to when the code is imported.\n",
        "\n",
        "Let's put all together in a file, called *menu.py* and let's execute it. An example below:"
      ],
      "metadata": {
        "id": "-K9YWCCBu-26"
      }
    },
    {
      "cell_type": "code",
      "source": [
        "#python menu.py zuppa stinco budino"
      ],
      "metadata": {
        "id": "dgbqUwVWu_iZ"
      },
      "execution_count": null,
      "outputs": []
    },
    {
      "cell_type": "markdown",
      "source": [
        "\n",
        "\n",
        "# Problem solving & exercises\n",
        "\n",
        "Now, in order to put all of this in practice, let's solve the first Rosalind Challenge.\n",
        "\n",
        "## Count base frequency\n",
        "\n",
        "The problem is the following:\n",
        "\n",
        "- your script receives a DNA sequence\n",
        "- your script results in the count of each base, i.e. how many A, T or C or G the sequenced you passed has.\n"
      ],
      "metadata": {
        "id": "cMkvgfJcvCIE"
      }
    },
    {
      "cell_type": "code",
      "source": [
        ""
      ],
      "metadata": {
        "id": "E5pzKM1bvHFK"
      },
      "execution_count": null,
      "outputs": []
    }
  ]
}